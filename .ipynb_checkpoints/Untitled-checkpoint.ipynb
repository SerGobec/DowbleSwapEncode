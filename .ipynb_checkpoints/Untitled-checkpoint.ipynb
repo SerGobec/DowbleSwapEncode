{
 "cells": [
  {
   "cell_type": "code",
   "execution_count": 1,
   "metadata": {},
   "outputs": [],
   "source": [
    "import numpy as np"
   ]
  },
  {
   "cell_type": "code",
   "execution_count": 2,
   "metadata": {
    "scrolled": true
   },
   "outputs": [
    {
     "name": "stdout",
     "output_type": "stream",
     "text": [
      "Denis_and_Dima_krasavi_voobshe_moshni_pacani\n"
     ]
    }
   ],
   "source": [
    "#Створюємо строку. Вона буде автоматично обрізана\n",
    "#до розміру row_len * column_len\n",
    "stroka = \"Denis and Dima krasavi voobshe moshni pacani\"\n",
    "\n",
    "# Заміняємо пробіли на _ якщо вони є\n",
    "l = stroka.split()\n",
    "stroka = '_'.join(l)\n",
    "print(stroka)\n",
    "#--------------------------"
   ]
  },
  {
   "cell_type": "code",
   "execution_count": 3,
   "metadata": {
    "scrolled": true
   },
   "outputs": [],
   "source": [
    "#Задаємо 2 ключа, для тасування по стовбцях і по строках\n",
    "key_row = '23041'\n",
    "key_column = '2130'"
   ]
  },
  {
   "cell_type": "code",
   "execution_count": 4,
   "metadata": {
    "scrolled": true
   },
   "outputs": [],
   "source": [
    "def doubleSwapEncode(stroka, key_row, key_column):\n",
    "    #створюємо масив та заповнюємо буквами\n",
    "    stroka = stroka[:(len(key_row) * len(key_column))]\n",
    "    arr = np.array(list(stroka))\n",
    "    \n",
    "    #Перетворюємо з одновимірного в багатовимірний\n",
    "    arr = arr.reshape(len(key_row), len(key_column))\n",
    "    \n",
    "    #Створюємо новий масив з виділення пам'яті для нього\n",
    "    rezMas = np.chararray((len(arr),len(arr[0])))\n",
    "    \n",
    "    #Перемішуємо рядки\n",
    "    for i in range(len(key_row)):\n",
    "        rezMas[i] = arr[int(key_row[i])]\n",
    "        \n",
    "    #Транспонуємо матрицю, шоб було легше мішати стовбці\n",
    "    rezMas = np.transpose(rezMas)\n",
    "    \n",
    "    #Створюємо новий масив для перемішування стовбців\n",
    "    rezMas2 = np.chararray((len(arr[0]),len(arr)))\n",
    "    \n",
    "    for i in range(len(key_column)):\n",
    "        rezMas2[i] = rezMas[int(key_column[i])]  \n",
    "\n",
    "    #тепер транспонуємо назад\n",
    "    rezMas2 = np.transpose(rezMas2)\n",
    "\n",
    "    #створюємо пустий string, куди запишемо зашифрований текст\n",
    "    rezSTR = ''\n",
    "\n",
    "    #Поелементно додаємо в наш string, переводячи в utf-8\n",
    "    for i in rezMas2:\n",
    "        for j in i:       \n",
    "            rezSTR = rezSTR + j.decode(\"utf-8\")\n",
    "    \n",
    "    return rezSTR"
   ]
  },
  {
   "cell_type": "code",
   "execution_count": 5,
   "metadata": {},
   "outputs": [
    {
     "name": "stdout",
     "output_type": "stream",
     "text": [
      "D_id_akmneiDsaara_ns\n"
     ]
    }
   ],
   "source": [
    "print(doubleSwapEncode(stroka, key_row, key_column))"
   ]
  },
  {
   "cell_type": "code",
   "execution_count": 6,
   "metadata": {},
   "outputs": [],
   "source": [
    "def doubleSwapDecode(stroka, key_row, key_column):\n",
    "    #переводимо зашифрований текст в масив символів\n",
    "    stroka = stroka[:(len(key_row) * len(key_column))]\n",
    "    arr = np.array(list(stroka))\n",
    "    \n",
    "    #Перетворюємо одновимірний масив в багатовимірний та одразу транспонуємо\n",
    "    arr = arr.reshape(len(key_row), len(key_column)) \n",
    "    arr = np.transpose(arr)\n",
    "    \n",
    "    #Створюємо новий масив\n",
    "    rezMas = np.chararray((len(key_column),len(key_row)))\n",
    "    #перемішуємо колонки назад в залежності від ключа\n",
    "    for i in range(len(key_column)):\n",
    "        rezMas[int(key_column[i])]  = arr[i]\n",
    "    \n",
    "    rezMas = np.transpose(rezMas)\n",
    "    \n",
    "    #Створюэмо новий щоб не посилався на старі клітки пам'яті\n",
    "    rezMas2 = np.chararray((len(key_row),len(key_column)))\n",
    "    #перемішуємо рядки залежно від ключа\n",
    "    for i in range(len(key_row)):\n",
    "        rezMas2[int(key_row[i])] = rezMas[i]\n",
    "    \n",
    "    #створюємо пустий string, куди запишемо зашифрований текст\n",
    "    #Поелементно додаємо в наш string, переводячи в utf-8\n",
    "    rezSTR = ''\n",
    "    for i in rezMas2:\n",
    "        for j in i:        \n",
    "            rezSTR = rezSTR + j.decode(\"utf-8\")\n",
    "    return(rezSTR)"
   ]
  },
  {
   "cell_type": "code",
   "execution_count": 7,
   "metadata": {},
   "outputs": [
    {
     "name": "stdout",
     "output_type": "stream",
     "text": [
      "Denis_and_Dima_krasa\n"
     ]
    }
   ],
   "source": [
    "code = doubleSwapEncode(stroka, key_row, key_column)\n",
    "print(doubleSwapDecode(code, key_row, key_column))"
   ]
  },
  {
   "cell_type": "code",
   "execution_count": null,
   "metadata": {},
   "outputs": [],
   "source": []
  }
 ],
 "metadata": {
  "kernelspec": {
   "display_name": "Python 3",
   "language": "python",
   "name": "python3"
  },
  "language_info": {
   "codemirror_mode": {
    "name": "ipython",
    "version": 3
   },
   "file_extension": ".py",
   "mimetype": "text/x-python",
   "name": "python",
   "nbconvert_exporter": "python",
   "pygments_lexer": "ipython3",
   "version": "3.7.0"
  }
 },
 "nbformat": 4,
 "nbformat_minor": 2
}
