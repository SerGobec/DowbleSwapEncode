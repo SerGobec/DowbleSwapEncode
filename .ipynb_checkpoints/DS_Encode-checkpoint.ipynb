{
 "cells": [
  {
   "cell_type": "code",
   "execution_count": 83,
   "metadata": {},
   "outputs": [],
   "source": [
    "import numpy as np"
   ]
  },
  {
   "cell_type": "code",
   "execution_count": 84,
   "metadata": {
    "scrolled": true
   },
   "outputs": [
    {
     "name": "stdout",
     "output_type": "stream",
     "text": [
      "The_best_woman_in_the_world,is_your_mother...\n"
     ]
    }
   ],
   "source": [
    "#Створюємо строку. Вона буде автоматично обрізана\n",
    "#Create string will be encrypted\n",
    "\n",
    "#до розміру row_len * column_len.\n",
    "#to size row_len * column_len.\n",
    "stroka = \"The best woman in the world,is your mother...\"\n",
    "\n",
    "# Заміняємо пробіли на _ якщо вони є.\n",
    "# Replace backspace by _, it they there are. \n",
    "stroka = '_'.join(stroka.split())\n",
    "print(stroka)\n",
    "#--------------------------"
   ]
  },
  {
   "cell_type": "code",
   "execution_count": 85,
   "metadata": {
    "scrolled": true
   },
   "outputs": [],
   "source": [
    "#Задаємо 2 ключа, для тасування по стовбцях і по строках\n",
    "#Create 2 key. For using by columns and rows.\n",
    "key_row = '2301645'\n",
    "key_column = '213450'"
   ]
  },
  {
   "cell_type": "code",
   "execution_count": 86,
   "metadata": {
    "scrolled": true
   },
   "outputs": [],
   "source": [
    "def doubleSwapEncode(stroka, key_row, key_column):\n",
    "    #створюємо масив та заповнюємо буквами\n",
    "    #Create array, that will be filled with words.\n",
    "    stroka = stroka[:(len(key_row) * len(key_column))]\n",
    "    arr = np.array(list(stroka))\n",
    "    \n",
    "    #Перетворюємо з одновимірного в багатовимірний\n",
    "    # onedemension -> multidimension(2)\n",
    "    arr = arr.reshape(len(key_row), len(key_column))\n",
    "    \n",
    "    #Створюємо новий масив з виділення пам'яті для нього\n",
    "    #Create new array for saving change\n",
    "    rezMas = np.chararray((len(arr),len(arr[0])))\n",
    "    \n",
    "    #Перемішуємо рядки\n",
    "    #Mix rows\n",
    "    for i in range(len(key_row)):\n",
    "        rezMas[i] = arr[int(key_row[i])]\n",
    "        \n",
    "    #Транспонуємо матрицю, шоб було легше мішати стовбці\n",
    "    rezMas = np.transpose(rezMas)\n",
    "    \n",
    "    #Створюємо новий масив для перемішування стовбців\n",
    "    #new array for mix column\n",
    "    arr = np.chararray((len(arr[0]),len(arr)))\n",
    "    \n",
    "    for i in range(len(key_column)):\n",
    "        arr[i] = rezMas[int(key_column[i])]  \n",
    "\n",
    "    #тепер транспонуємо назад\n",
    "    #transpose back\n",
    "    arr = np.transpose(arr)\n",
    "\n",
    "    #створюємо пустий string, куди запишемо зашифрований текст\n",
    "    #String for result\n",
    "    rezSTR = ''\n",
    "\n",
    "    #Поелементно додаємо в наш string, переводячи в utf-8\n",
    "    #char by char cteate rezult\n",
    "    for i in arr:\n",
    "        for j in i:       \n",
    "            rezSTR = rezSTR + j.decode(\"utf-8\")\n",
    "    \n",
    "    return rezSTR"
   ]
  },
  {
   "cell_type": "code",
   "execution_count": 87,
   "metadata": {},
   "outputs": [
    {
     "name": "stdout",
     "output_type": "stream",
     "text": [
      "_nin_aeh_woteh_beT_twomstohermdl,isroyur__\n"
     ]
    }
   ],
   "source": [
    "print(doubleSwapEncode(stroka, key_row, key_column))"
   ]
  },
  {
   "cell_type": "code",
   "execution_count": 88,
   "metadata": {},
   "outputs": [],
   "source": [
    "def doubleSwapDecode(stroka, key_row, key_column):\n",
    "    #переводимо зашифрований текст в масив символів\n",
    "    #Create array, that will be filled with words.\n",
    "    stroka = stroka[:(len(key_row) * len(key_column))]\n",
    "    arr = np.array(list(stroka))\n",
    "    \n",
    "    #Перетворюємо одновимірний масив в багатовимірний та одразу транспонуємо\n",
    "    # onedemension -> multidimension(2)\n",
    "    arr = arr.reshape(len(key_row), len(key_column)) \n",
    "    arr = np.transpose(arr)\n",
    "    \n",
    "    #Створюємо новий масив\n",
    "    #Create new array for saving change\n",
    "    rezMas = np.chararray((len(key_column),len(key_row)))\n",
    "    #перемішуємо колонки назад в залежності від ключа\n",
    "    for i in range(len(key_column)):\n",
    "        rezMas[int(key_column[i])]  = arr[i]\n",
    "    \n",
    "    rezMas = np.transpose(rezMas)\n",
    "    \n",
    "    arr = np.chararray((len(key_row),len(key_column)))\n",
    "    \n",
    "    #перемішуємо рядки залежно від ключа\n",
    "    for i in range(len(key_row)):\n",
    "        arr[int(key_row[i])] = rezMas[i]\n",
    "    \n",
    "    #створюємо пустий string, куди запишемо зашифрований текст\n",
    "    #Поелементно додаємо в наш string, переводячи в utf-8\n",
    "    #char by char cteate rezult (decrypted text)\n",
    "    rezSTR = ''\n",
    "    for i in arr:\n",
    "        for j in i:        \n",
    "            rezSTR = rezSTR + j.decode(\"utf-8\")\n",
    "    return(rezSTR)"
   ]
  },
  {
   "cell_type": "code",
   "execution_count": 89,
   "metadata": {},
   "outputs": [
    {
     "name": "stdout",
     "output_type": "stream",
     "text": [
      "The_best_woman_in_the_world,is_your_mother\n"
     ]
    }
   ],
   "source": [
    "code = doubleSwapEncode(stroka, key_row, key_column)\n",
    "print(doubleSwapDecode(code, key_row, key_column))"
   ]
  }
 ],
 "metadata": {
  "kernelspec": {
   "display_name": "Python 3",
   "language": "python",
   "name": "python3"
  },
  "language_info": {
   "codemirror_mode": {
    "name": "ipython",
    "version": 3
   },
   "file_extension": ".py",
   "mimetype": "text/x-python",
   "name": "python",
   "nbconvert_exporter": "python",
   "pygments_lexer": "ipython3",
   "version": "3.7.0"
  }
 },
 "nbformat": 4,
 "nbformat_minor": 2
}
